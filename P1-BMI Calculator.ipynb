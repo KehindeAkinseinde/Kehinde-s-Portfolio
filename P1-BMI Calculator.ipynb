{
 "cells": [
  {
   "cell_type": "code",
   "execution_count": 2,
   "id": "b94bbf58-89e3-4cb4-93da-d671ca034f2c",
   "metadata": {},
   "outputs": [
    {
     "name": "stdin",
     "output_type": "stream",
     "text": [
      "Enter your name:  kehinde\n",
      "Enter your weight in pounds:  225\n",
      "Enter your height in inches:  80\n"
     ]
    },
    {
     "name": "stdout",
     "output_type": "stream",
     "text": [
      "24.71484375\n",
      "kehinde, you are normal weight\n"
     ]
    }
   ],
   "source": [
    "name = input(\"Enter your name: \")\n",
    "weight = int(input(\"Enter your weight in pounds: \"))\n",
    "\n",
    "\n",
    "height = int(input(\"Enter your height in inches: \"))\n",
    "\n",
    "BMI = (weight * 703) / (height * height)\n",
    "\n",
    "print(BMI)\n",
    "\n",
    "#BMI =(weight in pounds x 703) / (height in inches x height in inches)\n",
    "if BMI >0:\n",
    "    if(BMI < 18.5):\n",
    "        print(name + \", you are underweight\")\n",
    "    elif(BMI <= 24.9):\n",
    "        print(name + \", you are normal weight\")\n",
    "    elif(BMI <= 29.9):\n",
    "        print( name + \", you are overweight\")\n",
    "    elif(BMI <= 34.9):\n",
    "        print(name + \", you are obese\")\n",
    "    elif(BMI <= 39.9):\n",
    "        print(name + \", you are  severly obese\")\n",
    "    elif(BMI >= 10):\n",
    "        print(name + \", you are morbidly obese\")\n",
    "else:\n",
    "        print(\"Enter valid inputs\")"
   ]
  },
  {
   "cell_type": "code",
   "execution_count": null,
   "id": "83f17731-b816-4eb6-bef0-918aa46f1843",
   "metadata": {},
   "outputs": [],
   "source": []
  },
  {
   "cell_type": "code",
   "execution_count": null,
   "id": "77dbea6d-d29a-4911-8368-cc36b0f95b95",
   "metadata": {},
   "outputs": [],
   "source": []
  },
  {
   "cell_type": "code",
   "execution_count": null,
   "id": "31484d3e-8c02-480e-8b5e-770414875200",
   "metadata": {},
   "outputs": [],
   "source": []
  },
  {
   "cell_type": "code",
   "execution_count": null,
   "id": "6800f3ef-d4ac-4d6a-85fc-847b014137c5",
   "metadata": {},
   "outputs": [],
   "source": []
  },
  {
   "cell_type": "code",
   "execution_count": null,
   "id": "cf6cf119-a439-44af-8a77-812800a89c4f",
   "metadata": {},
   "outputs": [],
   "source": []
  },
  {
   "cell_type": "code",
   "execution_count": null,
   "id": "81eac859-b592-4db3-85ce-931ae899a055",
   "metadata": {},
   "outputs": [],
   "source": []
  },
  {
   "cell_type": "code",
   "execution_count": null,
   "id": "2b5380d2-fd63-48ca-9c1b-9686326ad218",
   "metadata": {},
   "outputs": [],
   "source": []
  },
  {
   "cell_type": "code",
   "execution_count": null,
   "id": "5be392ae-d9d1-49cc-ae78-6b660f96b49c",
   "metadata": {},
   "outputs": [],
   "source": []
  },
  {
   "cell_type": "code",
   "execution_count": null,
   "id": "8e3c2923-c280-49a3-be81-9b255dcf9ff6",
   "metadata": {},
   "outputs": [],
   "source": []
  },
  {
   "cell_type": "code",
   "execution_count": null,
   "id": "635d14be-5e3f-4c39-beac-2e53a9f60e6e",
   "metadata": {},
   "outputs": [],
   "source": []
  },
  {
   "cell_type": "code",
   "execution_count": null,
   "id": "7e4053a0-88f6-4675-89d7-0a9ba577dbdc",
   "metadata": {},
   "outputs": [],
   "source": []
  }
 ],
 "metadata": {
  "kernelspec": {
   "display_name": "Python [conda env:base] *",
   "language": "python",
   "name": "conda-base-py"
  },
  "language_info": {
   "codemirror_mode": {
    "name": "ipython",
    "version": 3
   },
   "file_extension": ".py",
   "mimetype": "text/x-python",
   "name": "python",
   "nbconvert_exporter": "python",
   "pygments_lexer": "ipython3",
   "version": "3.12.7"
  }
 },
 "nbformat": 4,
 "nbformat_minor": 5
}
