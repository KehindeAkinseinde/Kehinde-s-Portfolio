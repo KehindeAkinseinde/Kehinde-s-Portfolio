{
 "cells": [
  {
   "cell_type": "code",
   "execution_count": 4,
   "id": "a09f221e-b207-4a7e-af01-cc0f08ce9c13",
   "metadata": {},
   "outputs": [],
   "source": [
    "import os, shutil"
   ]
  },
  {
   "cell_type": "code",
   "execution_count": 28,
   "id": "6d8a48a7-f89c-4172-97ae-060ca0742338",
   "metadata": {},
   "outputs": [],
   "source": [
    "#Generate the path\n",
    "path = r\"C:/Users/akins/OneDrive/Documents/Data Analyst/Python Series/Automated File Sorter/\""
   ]
  },
  {
   "cell_type": "code",
   "execution_count": 30,
   "id": "88489755-051f-4266-8845-8bd309837298",
   "metadata": {},
   "outputs": [
    {
     "data": {
      "text/plain": [
       "['animal.png',\n",
       " 'Power BI - Final Project.xlsx',\n",
       " 'qh4lk77bpelc1.jpeg',\n",
       " 'sedvfxddfg.txt']"
      ]
     },
     "execution_count": 30,
     "metadata": {},
     "output_type": "execute_result"
    }
   ],
   "source": [
    "#checks what is in the path\n",
    "os.listdir(path)"
   ]
  },
  {
   "cell_type": "code",
   "execution_count": 32,
   "id": "7799f8b7-dc4e-4b18-9bce-e67eb3b2b27c",
   "metadata": {},
   "outputs": [],
   "source": [
    "#assign a  variabkle name\n",
    "file_name = os.listdir(path)"
   ]
  },
  {
   "cell_type": "code",
   "execution_count": null,
   "id": "20d157b1-8122-4e63-9e9c-483113e9f12a",
   "metadata": {},
   "outputs": [],
   "source": []
  },
  {
   "cell_type": "code",
   "execution_count": 35,
   "id": "5bc6ece2-4cb8-45db-b958-473ef68d0552",
   "metadata": {},
   "outputs": [
    {
     "name": "stdout",
     "output_type": "stream",
     "text": [
      "C:/Users/akins/OneDrive/Documents/Data Analyst/Python Series/Automated File Sorter/xlsx files\n",
      "C:/Users/akins/OneDrive/Documents/Data Analyst/Python Series/Automated File Sorter/text files\n",
      "C:/Users/akins/OneDrive/Documents/Data Analyst/Python Series/Automated File Sorter/image files\n",
      "There were files not moved in this path\n"
     ]
    }
   ],
   "source": [
    "#creat folder name\n",
    "folder_names = ['xlsx files', 'text files', 'image files']\n",
    "#check if path already exist if it doesnt the create one\n",
    "for loop in range (0,3):\n",
    "    if not os.path.exists(path + folder_names[loop]):\n",
    "        print(path + folder_names[loop])\n",
    "        os.makedirs(path + folder_names[loop])\n",
    "\n",
    "for file in file_name:\n",
    "    if \".xlsx\" in file and not os.path.exists(path + \"xlsx files/\" + file):\n",
    "        shutil.move(path + file, path + \"xlsx files/\" + file)\n",
    "    elif \".txt\" in file and not os.path.exists(path + \"text files/\" + file):\n",
    "        shutil.move(path + file, path + \"text files/\" + file)\n",
    "    elif \".png\" in file and not os.path.exists(path + \"image files/\" + file):\n",
    "        shutil.move(path + file, path + \"image files/\" + file)\n",
    "    else:\n",
    "                print(\"There were files not moved in this path\")"
   ]
  },
  {
   "cell_type": "code",
   "execution_count": null,
   "id": "1f6fe8ad-d2f5-430e-bdec-4970971dcd20",
   "metadata": {},
   "outputs": [],
   "source": [
    "\n"
   ]
  },
  {
   "cell_type": "code",
   "execution_count": null,
   "id": "0330591e-6cfb-42d9-abd1-7befa7f8ec7a",
   "metadata": {},
   "outputs": [],
   "source": []
  },
  {
   "cell_type": "code",
   "execution_count": null,
   "id": "d7c469de-bae0-413b-9f4b-ebb470c5b44e",
   "metadata": {},
   "outputs": [],
   "source": []
  },
  {
   "cell_type": "code",
   "execution_count": null,
   "id": "944f396d-d58b-4d81-b470-baf5cf11c1f4",
   "metadata": {},
   "outputs": [],
   "source": []
  },
  {
   "cell_type": "code",
   "execution_count": null,
   "id": "2a53fc15-ecea-42d9-a7b3-1c37265e987a",
   "metadata": {},
   "outputs": [],
   "source": []
  },
  {
   "cell_type": "code",
   "execution_count": null,
   "id": "6d6d2485-1147-43de-94e8-1b023a59f88a",
   "metadata": {},
   "outputs": [],
   "source": []
  },
  {
   "cell_type": "code",
   "execution_count": null,
   "id": "e1c572d3-2660-4d2d-88c9-4090c858ef9a",
   "metadata": {},
   "outputs": [],
   "source": []
  },
  {
   "cell_type": "code",
   "execution_count": null,
   "id": "7c2447c7-36c0-43f8-9bb7-bc67c8c5d137",
   "metadata": {},
   "outputs": [],
   "source": []
  }
 ],
 "metadata": {
  "kernelspec": {
   "display_name": "Python [conda env:base] *",
   "language": "python",
   "name": "conda-base-py"
  },
  "language_info": {
   "codemirror_mode": {
    "name": "ipython",
    "version": 3
   },
   "file_extension": ".py",
   "mimetype": "text/x-python",
   "name": "python",
   "nbconvert_exporter": "python",
   "pygments_lexer": "ipython3",
   "version": "3.12.7"
  }
 },
 "nbformat": 4,
 "nbformat_minor": 5
}
