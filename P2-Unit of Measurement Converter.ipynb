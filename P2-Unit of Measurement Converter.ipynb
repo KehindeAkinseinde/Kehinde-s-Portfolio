{
 "cells": [
  {
   "cell_type": "code",
   "execution_count": 6,
   "id": "54f90e32-d24e-4593-be96-42d67141b078",
   "metadata": {},
   "outputs": [
    {
     "name": "stdin",
     "output_type": "stream",
     "text": [
      "Enter starting unit of measurement (inches, feet, yards):  inches\n",
      "Enter starting unit of measurement to convert to (inches, feet, yards):  feet\n",
      "Enter starting measurement in inches:  36\n"
     ]
    },
    {
     "name": "stdout",
     "output_type": "stream",
     "text": [
      "Result: 36 inches = 3.0 feet\n"
     ]
    }
   ],
   "source": [
    "#what unit of meaurement we are starting with\n",
    "convert_from= input(\"Enter starting unit of measurement (inches, feet, yards): \")\n",
    "\n",
    "#what we are converting to\n",
    "convert_to = input(\"Enter starting unit of measurement to convert to (inches, feet, yards): \")\n",
    "\n",
    "#need to know number of unit of measurement\n",
    "if convert_from.lower() in [\"in\", \"inches\", \"inch\"]:\n",
    "    number_of_inches = int(input(\"Enter starting measurement in inches: \"))\n",
    "    if convert_to.lower() in [\"feet\", \"ft\", \"foot\"]:\n",
    "        print(\"Result: \" + str(number_of_inches) + \" inches = \" + str(round(number_of_inches / 12, 2)) + \" feet\")\n",
    "    elif convert_to.lower() in [\"yards\", \"yard\", \"yds\", \"yd\"]:\n",
    "        print(\"Result: \" + str(number_of_inches) + \" inches = \" + str(round(number_of_inches / 36, 2)) + \" yards\")\n",
    "    else:\n",
    "        print(\"Your input was incorrect\")   \n",
    "elif convert_from.lower() in [\"ft\", \"feet\", \"foot\"]:\n",
    "    number_of_feet = int(input(\"Enter starting measurement in feet: \"))\n",
    "    if convert_to.lower() in [\"in\", \"inches\", \"inch\"]:\n",
    "        print(\"Result: \" + str(number_of_feet) + \" feet = \" + str(round(number_of_feet * 12)) + \" inches\")\n",
    "    elif convert_to.lower() in [\"yards\", \"yard\", \"yds\", \"yd\"]:\n",
    "        print(\"Result: \" + str(number_of_feet) + \" feet = \" + str(round(number_of_feet / 3, 2)) + \" yards\")\n",
    "    else:\n",
    "        print(\"Your input was incorrect\")\n",
    "elif convert_from.lower() in [\"yds\", \"yd\", \"yard\", \"yards\"]:\n",
    "    number_of_yards = int(input(\"Enter starting measurement in yards: \"))\n",
    "    if convert_to.lower() in [\"feet\", \"ft\", \"foot\"]:\n",
    "        print(\"Result: \" + str(number_of_yards) + \" yards = \" + str(round(number_of_yards * 3)) + \" feet\")\n",
    "    elif convert_to.lower() in [\"in\", \"inches\", \"inch\"]:\n",
    "        print(\"Result: \" + str(number_of_yards) + \" yards = \" + str(round(number_of_yards * 36)) + \" inches\")\n",
    "    else:\n",
    "        print(\"Your input was incorrect\")\n",
    "else:\n",
    "    print(\"Your input was incorrect\")\n",
    "\n",
    "\n",
    "# unit custom output, we create dthe logic and we created the output\n",
    "    "
   ]
  },
  {
   "cell_type": "code",
   "execution_count": null,
   "id": "533abc5f-35da-400c-bef7-27a8046afba6",
   "metadata": {},
   "outputs": [],
   "source": []
  },
  {
   "cell_type": "code",
   "execution_count": null,
   "id": "63405cc7-30c7-44df-a0b3-cda5d44fa66d",
   "metadata": {},
   "outputs": [],
   "source": []
  }
 ],
 "metadata": {
  "kernelspec": {
   "display_name": "Python [conda env:base] *",
   "language": "python",
   "name": "conda-base-py"
  },
  "language_info": {
   "codemirror_mode": {
    "name": "ipython",
    "version": 3
   },
   "file_extension": ".py",
   "mimetype": "text/x-python",
   "name": "python",
   "nbconvert_exporter": "python",
   "pygments_lexer": "ipython3",
   "version": "3.12.7"
  }
 },
 "nbformat": 4,
 "nbformat_minor": 5
}
