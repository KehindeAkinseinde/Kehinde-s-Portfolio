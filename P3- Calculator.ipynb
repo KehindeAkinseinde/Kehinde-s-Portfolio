{
 "cells": [
  {
   "cell_type": "code",
   "execution_count": 1,
   "id": "b800dbab-3813-408b-93b8-312eb27d2c0d",
   "metadata": {},
   "outputs": [],
   "source": [
    "#create functions\n",
    "def add(x,y):\n",
    "    return x + y\n",
    "\n",
    "def subtract(x,y):\n",
    "    return x - y\n",
    "\n",
    "def multiply(x,y):\n",
    "    return x * y\n",
    "\n",
    "def divide(x,y):\n",
    "    return x / y\n",
    "\n"
   ]
  },
  {
   "cell_type": "code",
   "execution_count": 93,
   "id": "fc7203e0-aa04-450c-b236-74a35c69a0db",
   "metadata": {},
   "outputs": [
    {
     "name": "stdout",
     "output_type": "stream",
     "text": [
      "Enter 'A' for Addition\n",
      "Enter 'S' for Subtraction\n",
      "Enter 'M' for Multiplication\n",
      "Enter 'D' for Division\n"
     ]
    },
    {
     "name": "stdin",
     "output_type": "stream",
     "text": [
      "Enter choice: (A, S, M, D):  m\n",
      "Enter first number:  4\n",
      "Enter second number:  5\n"
     ]
    },
    {
     "name": "stdout",
     "output_type": "stream",
     "text": [
      "Result:  4.0 * 5.0 = 20.0\n"
     ]
    },
    {
     "name": "stdin",
     "output_type": "stream",
     "text": [
      "Do you want toi do another calculation? (yes/no) yes\n",
      "Enter choice: (A, S, M, D):  l\n",
      "Do you want toi do another calculation? (yes/no) no\n"
     ]
    }
   ],
   "source": [
    "print(\"Enter 'A' for Addition\")\n",
    "print(\"Enter 'S' for Subtraction\")\n",
    "print(\"Enter 'M' for Multiplication\")\n",
    "print(\"Enter 'D' for Division\")\n",
    "\n",
    "while True:\n",
    "    choice = input(\"Enter choice: (A, S, M, D): \")\n",
    "\n",
    "    if choice.upper() in ('A', 'ADD', 'ADDITION', 'S', 'SUBTRACT', 'SUBTRACTION', 'M', \n",
    "    'MULTIPLY','MULTIPLICATION', 'D', 'DIVIDE', 'DIVISION'):\n",
    "        num1 =float(input(\"Enter first number: \"))\n",
    "        num2 = float(input(\"Enter second number: \"))\n",
    "    \n",
    "        if choice.upper() in ('A','ADD', 'ADDITION'):\n",
    "            print('Result: ', num1, '+', num2, '=', add(num1,num2))\n",
    "    \n",
    "        elif choice.upper() in ('S', 'SUBTRACT', 'SUBTRACTION'):\n",
    "            print('Result: ', num1, '-', num2, '=', subtract(num1,num2))\n",
    "        \n",
    "        elif choice.upper() in ('M', 'MULTIPLY','MULTIPLICATION'):\n",
    "            print('Result: ', num1, '*', num2, '=', multiply(num1,num2))\n",
    "    \n",
    "        elif choice.upper() in ('D', 'DIVIDE', 'DIVISION'):\n",
    "            print('Result: ', num1, '/', num2, '=', divide(num1,num2))\n",
    "    else:\n",
    "        print(\"Please enter a correct choice\")\n",
    "\n",
    "    next_calculation = input(\"Do you want to do another calculation? (yes/no)\")\n",
    "    if next_calculation.lower() in ('N', 'nope', 'no'):\n",
    "        break"
   ]
  },
  {
   "cell_type": "code",
   "execution_count": null,
   "id": "fbb0eaef-9142-4247-95cf-67dde0da22fb",
   "metadata": {},
   "outputs": [],
   "source": []
  }
 ],
 "metadata": {
  "kernelspec": {
   "display_name": "Python [conda env:base] *",
   "language": "python",
   "name": "conda-base-py"
  },
  "language_info": {
   "codemirror_mode": {
    "name": "ipython",
    "version": 3
   },
   "file_extension": ".py",
   "mimetype": "text/x-python",
   "name": "python",
   "nbconvert_exporter": "python",
   "pygments_lexer": "ipython3",
   "version": "3.12.7"
  }
 },
 "nbformat": 4,
 "nbformat_minor": 5
}
